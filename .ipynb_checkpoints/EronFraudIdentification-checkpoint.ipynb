{
 "cells": [
  {
   "cell_type": "markdown",
   "metadata": {},
   "source": [
    "Eron Fraud Identification\n",
    "==="
   ]
  },
  {
   "cell_type": "markdown",
   "metadata": {},
   "source": [
    "Python\n",
    "---"
   ]
  },
  {
   "cell_type": "markdown",
   "metadata": {},
   "source": [
    "---\n",
    "\n",
    "**Author :** Matheus Willian Machado  \n",
    "**Date :** Jul 30, 2018"
   ]
  },
  {
   "cell_type": "markdown",
   "metadata": {},
   "source": [
    "---\n",
    "\n",
    "Project Overview\n",
    "---\n",
    "\n",
    ">Banque o detetive e coloque suas habilidades de aprendizado de máquina em uso através da construção de um algoritmo para identificar funcionários da Enron que possam ter cometido fraude. Sua base será um conjunto de dados financeiros e de e-mail público da Enron.\n",
    "> \n",
    "> (Udacity)."
   ]
  },
  {
   "cell_type": "markdown",
   "metadata": {},
   "source": [
    "---\n",
    "\n",
    "## Introduction\n",
    "\n",
    "Em 2000, Enron era uma das maiores empresas dos Estados Unidos. Já em 2002, ela colapsou e quebrou devido a uma fraude que envolveu grande parte da corporação. Resultando em uma investigação federal, muitos dados que são normalmente confidenciais, se tornaram públicos, incluindo dezenas de milhares de e-mails e detalhes financeiros para os executivos dos mais altos níveis da empresa. Neste projeto, você irá bancar o detetive, e colocar suas habilidades na construção de um modelo preditivo que visará determinar se um funcionário é ou não um funcionário de interesse (POI). Um funcionário de interesse é um funcionário que participou do escândalo da empresa Enron. Para te auxiliar neste trabalho de detetive, nós combinamos os dados financeiros e sobre e-mails dos funcionários investigados neste caso de fraude, o que significa que eles foram indiciados, fecharam acordos com o governo, ou testemunharam em troca de imunidade no processo."
   ]
  },
  {
   "cell_type": "markdown",
   "metadata": {},
   "source": [
    "---\n",
    "\n",
    "## Libraries"
   ]
  },
  {
   "cell_type": "code",
   "execution_count": 1,
   "metadata": {},
   "outputs": [],
   "source": [
    "import warnings\n",
    "warnings.filterwarnings(\"ignore\")"
   ]
  },
  {
   "cell_type": "code",
   "execution_count": null,
   "metadata": {},
   "outputs": [],
   "source": [
    "import pickle\n",
    "import pandas as pd\n",
    "import numpy as np\n",
    "\n",
    "from sklearn.preprocessing import Imputer, MinMaxScaler\n",
    "from sklearn.feature_selection import SelectKBest, f_classif\n",
    "from sklearn.decomposition import PCA\n",
    "from sklearn.model_selection import GridSearchCV\n",
    "from sklearn.cross_validation import StratifiedShuffleSplit\n",
    "from sklearn.pipeline import Pipeline\n",
    "\n",
    "from feature_format import featureFormat, targetFeatureSplit\n",
    "from tester import dump_classifier_and_data, test_classifier"
   ]
  },
  {
   "cell_type": "markdown",
   "metadata": {},
   "source": [
    "---\n",
    "\n",
    "## Data Exploration"
   ]
  },
  {
   "cell_type": "code",
   "execution_count": 4,
   "metadata": {},
   "outputs": [],
   "source": [
    "with open('final_project_dataset.pkl', 'rb') as f:\n",
    "    dic = pickle.load(f)"
   ]
  },
  {
   "cell_type": "code",
   "execution_count": 5,
   "metadata": {
    "scrolled": true
   },
   "outputs": [
    {
     "data": {
      "text/html": [
       "<div>\n",
       "<style scoped>\n",
       "    .dataframe tbody tr th:only-of-type {\n",
       "        vertical-align: middle;\n",
       "    }\n",
       "\n",
       "    .dataframe tbody tr th {\n",
       "        vertical-align: top;\n",
       "    }\n",
       "\n",
       "    .dataframe thead th {\n",
       "        text-align: right;\n",
       "    }\n",
       "</style>\n",
       "<table border=\"1\" class=\"dataframe\">\n",
       "  <thead>\n",
       "    <tr style=\"text-align: right;\">\n",
       "      <th></th>\n",
       "      <th>salary</th>\n",
       "      <th>to_messages</th>\n",
       "      <th>deferral_payments</th>\n",
       "      <th>total_payments</th>\n",
       "      <th>loan_advances</th>\n",
       "      <th>bonus</th>\n",
       "      <th>email_address</th>\n",
       "      <th>restricted_stock_deferred</th>\n",
       "      <th>deferred_income</th>\n",
       "      <th>total_stock_value</th>\n",
       "      <th>...</th>\n",
       "      <th>from_poi_to_this_person</th>\n",
       "      <th>exercised_stock_options</th>\n",
       "      <th>from_messages</th>\n",
       "      <th>other</th>\n",
       "      <th>from_this_person_to_poi</th>\n",
       "      <th>poi</th>\n",
       "      <th>long_term_incentive</th>\n",
       "      <th>shared_receipt_with_poi</th>\n",
       "      <th>restricted_stock</th>\n",
       "      <th>director_fees</th>\n",
       "    </tr>\n",
       "  </thead>\n",
       "  <tbody>\n",
       "    <tr>\n",
       "      <th>ALLEN PHILLIP K</th>\n",
       "      <td>201955</td>\n",
       "      <td>2902</td>\n",
       "      <td>2869717</td>\n",
       "      <td>4484442</td>\n",
       "      <td>NaN</td>\n",
       "      <td>4175000</td>\n",
       "      <td>phillip.allen@enron.com</td>\n",
       "      <td>-126027</td>\n",
       "      <td>-3081055</td>\n",
       "      <td>1729541</td>\n",
       "      <td>...</td>\n",
       "      <td>47</td>\n",
       "      <td>1729541</td>\n",
       "      <td>2195</td>\n",
       "      <td>152</td>\n",
       "      <td>65</td>\n",
       "      <td>False</td>\n",
       "      <td>304805</td>\n",
       "      <td>1407</td>\n",
       "      <td>126027</td>\n",
       "      <td>NaN</td>\n",
       "    </tr>\n",
       "    <tr>\n",
       "      <th>BADUM JAMES P</th>\n",
       "      <td>NaN</td>\n",
       "      <td>NaN</td>\n",
       "      <td>178980</td>\n",
       "      <td>182466</td>\n",
       "      <td>NaN</td>\n",
       "      <td>NaN</td>\n",
       "      <td>NaN</td>\n",
       "      <td>NaN</td>\n",
       "      <td>NaN</td>\n",
       "      <td>257817</td>\n",
       "      <td>...</td>\n",
       "      <td>NaN</td>\n",
       "      <td>257817</td>\n",
       "      <td>NaN</td>\n",
       "      <td>NaN</td>\n",
       "      <td>NaN</td>\n",
       "      <td>False</td>\n",
       "      <td>NaN</td>\n",
       "      <td>NaN</td>\n",
       "      <td>NaN</td>\n",
       "      <td>NaN</td>\n",
       "    </tr>\n",
       "    <tr>\n",
       "      <th>BANNANTINE JAMES M</th>\n",
       "      <td>477</td>\n",
       "      <td>566</td>\n",
       "      <td>NaN</td>\n",
       "      <td>916197</td>\n",
       "      <td>NaN</td>\n",
       "      <td>NaN</td>\n",
       "      <td>james.bannantine@enron.com</td>\n",
       "      <td>-560222</td>\n",
       "      <td>-5104</td>\n",
       "      <td>5243487</td>\n",
       "      <td>...</td>\n",
       "      <td>39</td>\n",
       "      <td>4046157</td>\n",
       "      <td>29</td>\n",
       "      <td>864523</td>\n",
       "      <td>0</td>\n",
       "      <td>False</td>\n",
       "      <td>NaN</td>\n",
       "      <td>465</td>\n",
       "      <td>1757552</td>\n",
       "      <td>NaN</td>\n",
       "    </tr>\n",
       "    <tr>\n",
       "      <th>BAXTER JOHN C</th>\n",
       "      <td>267102</td>\n",
       "      <td>NaN</td>\n",
       "      <td>1295738</td>\n",
       "      <td>5634343</td>\n",
       "      <td>NaN</td>\n",
       "      <td>1200000</td>\n",
       "      <td>NaN</td>\n",
       "      <td>NaN</td>\n",
       "      <td>-1386055</td>\n",
       "      <td>10623258</td>\n",
       "      <td>...</td>\n",
       "      <td>NaN</td>\n",
       "      <td>6680544</td>\n",
       "      <td>NaN</td>\n",
       "      <td>2660303</td>\n",
       "      <td>NaN</td>\n",
       "      <td>False</td>\n",
       "      <td>1586055</td>\n",
       "      <td>NaN</td>\n",
       "      <td>3942714</td>\n",
       "      <td>NaN</td>\n",
       "    </tr>\n",
       "    <tr>\n",
       "      <th>BAY FRANKLIN R</th>\n",
       "      <td>239671</td>\n",
       "      <td>NaN</td>\n",
       "      <td>260455</td>\n",
       "      <td>827696</td>\n",
       "      <td>NaN</td>\n",
       "      <td>400000</td>\n",
       "      <td>frank.bay@enron.com</td>\n",
       "      <td>-82782</td>\n",
       "      <td>-201641</td>\n",
       "      <td>63014</td>\n",
       "      <td>...</td>\n",
       "      <td>NaN</td>\n",
       "      <td>NaN</td>\n",
       "      <td>NaN</td>\n",
       "      <td>69</td>\n",
       "      <td>NaN</td>\n",
       "      <td>False</td>\n",
       "      <td>NaN</td>\n",
       "      <td>NaN</td>\n",
       "      <td>145796</td>\n",
       "      <td>NaN</td>\n",
       "    </tr>\n",
       "  </tbody>\n",
       "</table>\n",
       "<p>5 rows × 21 columns</p>\n",
       "</div>"
      ],
      "text/plain": [
       "                    salary to_messages deferral_payments total_payments  \\\n",
       "ALLEN PHILLIP K     201955        2902           2869717        4484442   \n",
       "BADUM JAMES P          NaN         NaN            178980         182466   \n",
       "BANNANTINE JAMES M     477         566               NaN         916197   \n",
       "BAXTER JOHN C       267102         NaN           1295738        5634343   \n",
       "BAY FRANKLIN R      239671         NaN            260455         827696   \n",
       "\n",
       "                   loan_advances    bonus               email_address  \\\n",
       "ALLEN PHILLIP K              NaN  4175000     phillip.allen@enron.com   \n",
       "BADUM JAMES P                NaN      NaN                         NaN   \n",
       "BANNANTINE JAMES M           NaN      NaN  james.bannantine@enron.com   \n",
       "BAXTER JOHN C                NaN  1200000                         NaN   \n",
       "BAY FRANKLIN R               NaN   400000         frank.bay@enron.com   \n",
       "\n",
       "                   restricted_stock_deferred deferred_income  \\\n",
       "ALLEN PHILLIP K                      -126027        -3081055   \n",
       "BADUM JAMES P                            NaN             NaN   \n",
       "BANNANTINE JAMES M                   -560222           -5104   \n",
       "BAXTER JOHN C                            NaN        -1386055   \n",
       "BAY FRANKLIN R                        -82782         -201641   \n",
       "\n",
       "                   total_stock_value      ...      from_poi_to_this_person  \\\n",
       "ALLEN PHILLIP K              1729541      ...                           47   \n",
       "BADUM JAMES P                 257817      ...                          NaN   \n",
       "BANNANTINE JAMES M           5243487      ...                           39   \n",
       "BAXTER JOHN C               10623258      ...                          NaN   \n",
       "BAY FRANKLIN R                 63014      ...                          NaN   \n",
       "\n",
       "                   exercised_stock_options from_messages    other  \\\n",
       "ALLEN PHILLIP K                    1729541          2195      152   \n",
       "BADUM JAMES P                       257817           NaN      NaN   \n",
       "BANNANTINE JAMES M                 4046157            29   864523   \n",
       "BAXTER JOHN C                      6680544           NaN  2660303   \n",
       "BAY FRANKLIN R                         NaN           NaN       69   \n",
       "\n",
       "                   from_this_person_to_poi    poi  long_term_incentive  \\\n",
       "ALLEN PHILLIP K                         65  False               304805   \n",
       "BADUM JAMES P                          NaN  False                  NaN   \n",
       "BANNANTINE JAMES M                       0  False                  NaN   \n",
       "BAXTER JOHN C                          NaN  False              1586055   \n",
       "BAY FRANKLIN R                         NaN  False                  NaN   \n",
       "\n",
       "                   shared_receipt_with_poi restricted_stock director_fees  \n",
       "ALLEN PHILLIP K                       1407           126027           NaN  \n",
       "BADUM JAMES P                          NaN              NaN           NaN  \n",
       "BANNANTINE JAMES M                     465          1757552           NaN  \n",
       "BAXTER JOHN C                          NaN          3942714           NaN  \n",
       "BAY FRANKLIN R                         NaN           145796           NaN  \n",
       "\n",
       "[5 rows x 21 columns]"
      ]
     },
     "execution_count": 5,
     "metadata": {},
     "output_type": "execute_result"
    }
   ],
   "source": [
    "data = pd.DataFrame.from_dict(dic, orient='index')\n",
    "data.head()\n"
   ]
  },
  {
   "cell_type": "code",
   "execution_count": 6,
   "metadata": {
    "scrolled": false
   },
   "outputs": [
    {
     "name": "stdout",
     "output_type": "stream",
     "text": [
      "<class 'pandas.core.frame.DataFrame'>\n",
      "Index: 146 entries, ALLEN PHILLIP K to YEAP SOON\n",
      "Data columns (total 21 columns):\n",
      "salary                       95 non-null float64\n",
      "to_messages                  86 non-null float64\n",
      "deferral_payments            39 non-null float64\n",
      "total_payments               125 non-null float64\n",
      "loan_advances                4 non-null float64\n",
      "bonus                        82 non-null float64\n",
      "email_address                111 non-null object\n",
      "restricted_stock_deferred    18 non-null float64\n",
      "deferred_income              49 non-null float64\n",
      "total_stock_value            126 non-null float64\n",
      "expenses                     95 non-null float64\n",
      "from_poi_to_this_person      86 non-null float64\n",
      "exercised_stock_options      102 non-null float64\n",
      "from_messages                86 non-null float64\n",
      "other                        93 non-null float64\n",
      "from_this_person_to_poi      86 non-null float64\n",
      "poi                          146 non-null bool\n",
      "long_term_incentive          66 non-null float64\n",
      "shared_receipt_with_poi      86 non-null float64\n",
      "restricted_stock             110 non-null float64\n",
      "director_fees                17 non-null float64\n",
      "dtypes: bool(1), float64(19), object(1)\n",
      "memory usage: 24.1+ KB\n"
     ]
    }
   ],
   "source": [
    "data.replace('NaN', np.nan, inplace=True)\n",
    "data.info()"
   ]
  },
  {
   "cell_type": "code",
   "execution_count": 7,
   "metadata": {
    "scrolled": true
   },
   "outputs": [
    {
     "data": {
      "text/plain": [
       "False    128\n",
       "True      18\n",
       "Name: poi, dtype: int64"
      ]
     },
     "execution_count": 7,
     "metadata": {},
     "output_type": "execute_result"
    }
   ],
   "source": [
    "label = 'poi'\n",
    "data[label].value_counts()"
   ]
  },
  {
   "cell_type": "code",
   "execution_count": 8,
   "metadata": {},
   "outputs": [
    {
     "data": {
      "text/plain": [
       "111"
      ]
     },
     "execution_count": 8,
     "metadata": {},
     "output_type": "execute_result"
    }
   ],
   "source": [
    "data['email_address'].nunique()\n"
   ]
  },
  {
   "cell_type": "code",
   "execution_count": 9,
   "metadata": {},
   "outputs": [],
   "source": [
    "del data['email_address']"
   ]
  },
  {
   "cell_type": "code",
   "execution_count": 10,
   "metadata": {
    "scrolled": false
   },
   "outputs": [
    {
     "data": {
      "text/plain": [
       "salary                        51\n",
       "to_messages                   60\n",
       "deferral_payments            107\n",
       "total_payments                21\n",
       "loan_advances                142\n",
       "bonus                         64\n",
       "restricted_stock_deferred    128\n",
       "deferred_income               97\n",
       "total_stock_value             20\n",
       "expenses                      51\n",
       "from_poi_to_this_person       60\n",
       "exercised_stock_options       44\n",
       "from_messages                 60\n",
       "other                         53\n",
       "from_this_person_to_poi       60\n",
       "poi                            0\n",
       "long_term_incentive           80\n",
       "shared_receipt_with_poi       60\n",
       "restricted_stock              36\n",
       "director_fees                129\n",
       "dtype: int64"
      ]
     },
     "execution_count": 10,
     "metadata": {},
     "output_type": "execute_result"
    }
   ],
   "source": [
    "data.isnull().sum()"
   ]
  },
  {
   "cell_type": "code",
   "execution_count": 11,
   "metadata": {},
   "outputs": [
    {
     "data": {
      "text/plain": [
       "salary                        1\n",
       "to_messages                   4\n",
       "deferral_payments            13\n",
       "total_payments                0\n",
       "loan_advances                17\n",
       "bonus                         2\n",
       "restricted_stock_deferred    18\n",
       "deferred_income               7\n",
       "total_stock_value             0\n",
       "expenses                      0\n",
       "from_poi_to_this_person       4\n",
       "exercised_stock_options       6\n",
       "from_messages                 4\n",
       "other                         0\n",
       "from_this_person_to_poi       4\n",
       "poi                           0\n",
       "long_term_incentive           6\n",
       "shared_receipt_with_poi       4\n",
       "restricted_stock              1\n",
       "director_fees                18\n",
       "dtype: int64"
      ]
     },
     "execution_count": 11,
     "metadata": {},
     "output_type": "execute_result"
    }
   ],
   "source": [
    "s = data[data[label] == 1].isnull().sum()\n",
    "s"
   ]
  },
  {
   "cell_type": "code",
   "execution_count": 12,
   "metadata": {},
   "outputs": [
    {
     "data": {
      "text/plain": [
       "['deferral_payments',\n",
       " 'loan_advances',\n",
       " 'restricted_stock_deferred',\n",
       " 'deferred_income',\n",
       " 'director_fees']"
      ]
     },
     "execution_count": 12,
     "metadata": {},
     "output_type": "execute_result"
    }
   ],
   "source": [
    "limit = data[label].value_counts()[1]/3\n",
    "few_poi_values = s[s > limit].index.tolist()\n",
    "few_poi_values"
   ]
  },
  {
   "cell_type": "code",
   "execution_count": 13,
   "metadata": {},
   "outputs": [],
   "source": [
    "payments = ['salary',\n",
    "            'deferral_payments',\n",
    "            'loan_advances',\n",
    "            'bonus',\n",
    "            'deferred_income',\n",
    "            'expenses',\n",
    "            'long_term_incentive',\n",
    "            'other',\n",
    "            'director_fees',\n",
    "            'total_payments']"
   ]
  },
  {
   "cell_type": "code",
   "execution_count": 14,
   "metadata": {},
   "outputs": [],
   "source": [
    "data[payments] = data[payments].fillna(0)"
   ]
  },
  {
   "cell_type": "code",
   "execution_count": 15,
   "metadata": {
    "scrolled": true
   },
   "outputs": [
    {
     "data": {
      "text/html": [
       "<div>\n",
       "<style scoped>\n",
       "    .dataframe tbody tr th:only-of-type {\n",
       "        vertical-align: middle;\n",
       "    }\n",
       "\n",
       "    .dataframe tbody tr th {\n",
       "        vertical-align: top;\n",
       "    }\n",
       "\n",
       "    .dataframe thead th {\n",
       "        text-align: right;\n",
       "    }\n",
       "</style>\n",
       "<table border=\"1\" class=\"dataframe\">\n",
       "  <thead>\n",
       "    <tr style=\"text-align: right;\">\n",
       "      <th></th>\n",
       "      <th>salary</th>\n",
       "      <th>deferral_payments</th>\n",
       "      <th>loan_advances</th>\n",
       "      <th>bonus</th>\n",
       "      <th>deferred_income</th>\n",
       "      <th>expenses</th>\n",
       "      <th>long_term_incentive</th>\n",
       "      <th>other</th>\n",
       "      <th>director_fees</th>\n",
       "      <th>total_payments</th>\n",
       "    </tr>\n",
       "  </thead>\n",
       "  <tbody>\n",
       "    <tr>\n",
       "      <th>BELFER ROBERT</th>\n",
       "      <td>0.0</td>\n",
       "      <td>-102500.0</td>\n",
       "      <td>0.0</td>\n",
       "      <td>0.0</td>\n",
       "      <td>0.0</td>\n",
       "      <td>0.0</td>\n",
       "      <td>0.0</td>\n",
       "      <td>0.0</td>\n",
       "      <td>3285.0</td>\n",
       "      <td>102500.0</td>\n",
       "    </tr>\n",
       "    <tr>\n",
       "      <th>BHATNAGAR SANJAY</th>\n",
       "      <td>0.0</td>\n",
       "      <td>0.0</td>\n",
       "      <td>0.0</td>\n",
       "      <td>0.0</td>\n",
       "      <td>0.0</td>\n",
       "      <td>0.0</td>\n",
       "      <td>0.0</td>\n",
       "      <td>137864.0</td>\n",
       "      <td>137864.0</td>\n",
       "      <td>15456290.0</td>\n",
       "    </tr>\n",
       "  </tbody>\n",
       "</table>\n",
       "</div>"
      ],
      "text/plain": [
       "                  salary  deferral_payments  loan_advances  bonus  \\\n",
       "BELFER ROBERT        0.0          -102500.0            0.0    0.0   \n",
       "BHATNAGAR SANJAY     0.0                0.0            0.0    0.0   \n",
       "\n",
       "                  deferred_income  expenses  long_term_incentive     other  \\\n",
       "BELFER ROBERT                 0.0       0.0                  0.0       0.0   \n",
       "BHATNAGAR SANJAY              0.0       0.0                  0.0  137864.0   \n",
       "\n",
       "                  director_fees  total_payments  \n",
       "BELFER ROBERT            3285.0        102500.0  \n",
       "BHATNAGAR SANJAY       137864.0      15456290.0  "
      ]
     },
     "execution_count": 15,
     "metadata": {},
     "output_type": "execute_result"
    }
   ],
   "source": [
    "data[data[payments[:-1]].sum(axis=1) != data.total_payments][payments]"
   ]
  },
  {
   "cell_type": "code",
   "execution_count": 16,
   "metadata": {},
   "outputs": [],
   "source": [
    "correct = ['deferred_income','deferral_payments', 'expenses', 'director_fees', 'total_payments']\n",
    "data.loc['BELFER ROBERT',correct] = np.array([-102500, 0, 3285, 102500, 3285])\n"
   ]
  },
  {
   "cell_type": "code",
   "execution_count": 17,
   "metadata": {},
   "outputs": [],
   "source": [
    "correct = ['other', 'expenses', 'director_fees', 'total_payments']\n",
    "data.loc['BHATNAGAR SANJAY',correct] = np.array([0, 137864, 0, 137864])"
   ]
  },
  {
   "cell_type": "code",
   "execution_count": 18,
   "metadata": {},
   "outputs": [
    {
     "data": {
      "text/html": [
       "<div>\n",
       "<style scoped>\n",
       "    .dataframe tbody tr th:only-of-type {\n",
       "        vertical-align: middle;\n",
       "    }\n",
       "\n",
       "    .dataframe tbody tr th {\n",
       "        vertical-align: top;\n",
       "    }\n",
       "\n",
       "    .dataframe thead th {\n",
       "        text-align: right;\n",
       "    }\n",
       "</style>\n",
       "<table border=\"1\" class=\"dataframe\">\n",
       "  <thead>\n",
       "    <tr style=\"text-align: right;\">\n",
       "      <th></th>\n",
       "      <th>salary</th>\n",
       "      <th>deferral_payments</th>\n",
       "      <th>loan_advances</th>\n",
       "      <th>bonus</th>\n",
       "      <th>deferred_income</th>\n",
       "      <th>expenses</th>\n",
       "      <th>long_term_incentive</th>\n",
       "      <th>other</th>\n",
       "      <th>director_fees</th>\n",
       "      <th>total_payments</th>\n",
       "    </tr>\n",
       "  </thead>\n",
       "  <tbody>\n",
       "  </tbody>\n",
       "</table>\n",
       "</div>"
      ],
      "text/plain": [
       "Empty DataFrame\n",
       "Columns: [salary, deferral_payments, loan_advances, bonus, deferred_income, expenses, long_term_incentive, other, director_fees, total_payments]\n",
       "Index: []"
      ]
     },
     "execution_count": 18,
     "metadata": {},
     "output_type": "execute_result"
    }
   ],
   "source": [
    "data[data[payments[:-1]].sum(axis=1) != data.total_payments][payments]"
   ]
  },
  {
   "cell_type": "code",
   "execution_count": 19,
   "metadata": {},
   "outputs": [],
   "source": [
    "stock = ['restricted_stock_deferred',\n",
    "         'restricted_stock',\n",
    "         'exercised_stock_options',\n",
    "         'total_stock_value']"
   ]
  },
  {
   "cell_type": "code",
   "execution_count": 20,
   "metadata": {},
   "outputs": [],
   "source": [
    "data[stock] = data[stock].fillna(0)"
   ]
  },
  {
   "cell_type": "code",
   "execution_count": 21,
   "metadata": {},
   "outputs": [
    {
     "data": {
      "text/html": [
       "<div>\n",
       "<style scoped>\n",
       "    .dataframe tbody tr th:only-of-type {\n",
       "        vertical-align: middle;\n",
       "    }\n",
       "\n",
       "    .dataframe tbody tr th {\n",
       "        vertical-align: top;\n",
       "    }\n",
       "\n",
       "    .dataframe thead th {\n",
       "        text-align: right;\n",
       "    }\n",
       "</style>\n",
       "<table border=\"1\" class=\"dataframe\">\n",
       "  <thead>\n",
       "    <tr style=\"text-align: right;\">\n",
       "      <th></th>\n",
       "      <th>restricted_stock_deferred</th>\n",
       "      <th>restricted_stock</th>\n",
       "      <th>exercised_stock_options</th>\n",
       "      <th>total_stock_value</th>\n",
       "    </tr>\n",
       "  </thead>\n",
       "  <tbody>\n",
       "    <tr>\n",
       "      <th>BELFER ROBERT</th>\n",
       "      <td>44093.0</td>\n",
       "      <td>0.0</td>\n",
       "      <td>3285.0</td>\n",
       "      <td>-44093.0</td>\n",
       "    </tr>\n",
       "    <tr>\n",
       "      <th>BHATNAGAR SANJAY</th>\n",
       "      <td>15456290.0</td>\n",
       "      <td>-2604490.0</td>\n",
       "      <td>2604490.0</td>\n",
       "      <td>0.0</td>\n",
       "    </tr>\n",
       "  </tbody>\n",
       "</table>\n",
       "</div>"
      ],
      "text/plain": [
       "                  restricted_stock_deferred  restricted_stock  \\\n",
       "BELFER ROBERT                       44093.0               0.0   \n",
       "BHATNAGAR SANJAY                 15456290.0        -2604490.0   \n",
       "\n",
       "                  exercised_stock_options  total_stock_value  \n",
       "BELFER ROBERT                      3285.0           -44093.0  \n",
       "BHATNAGAR SANJAY                2604490.0                0.0  "
      ]
     },
     "execution_count": 21,
     "metadata": {},
     "output_type": "execute_result"
    }
   ],
   "source": [
    "data[data[stock[:-1]].sum(axis=1) != data.total_stock_value][stock]"
   ]
  },
  {
   "cell_type": "code",
   "execution_count": 22,
   "metadata": {},
   "outputs": [],
   "source": [
    "correct = ['restricted_stock_deferred','restricted_stock', 'exercised_stock_options', 'total_stock_value']\n",
    "data.loc['BELFER ROBERT',correct] = np.array([-44093, 44093, 0, 0])"
   ]
  },
  {
   "cell_type": "code",
   "execution_count": 23,
   "metadata": {},
   "outputs": [],
   "source": [
    "correct = ['restricted_stock_deferred','restricted_stock', 'exercised_stock_options', 'total_stock_value']\n",
    "data.loc['BHATNAGAR SANJAY',correct] = np.array([-2604490, 2604490, 15456290, 15456290])"
   ]
  },
  {
   "cell_type": "code",
   "execution_count": 24,
   "metadata": {},
   "outputs": [
    {
     "data": {
      "text/html": [
       "<div>\n",
       "<style scoped>\n",
       "    .dataframe tbody tr th:only-of-type {\n",
       "        vertical-align: middle;\n",
       "    }\n",
       "\n",
       "    .dataframe tbody tr th {\n",
       "        vertical-align: top;\n",
       "    }\n",
       "\n",
       "    .dataframe thead th {\n",
       "        text-align: right;\n",
       "    }\n",
       "</style>\n",
       "<table border=\"1\" class=\"dataframe\">\n",
       "  <thead>\n",
       "    <tr style=\"text-align: right;\">\n",
       "      <th></th>\n",
       "      <th>restricted_stock_deferred</th>\n",
       "      <th>restricted_stock</th>\n",
       "      <th>exercised_stock_options</th>\n",
       "      <th>total_stock_value</th>\n",
       "    </tr>\n",
       "  </thead>\n",
       "  <tbody>\n",
       "  </tbody>\n",
       "</table>\n",
       "</div>"
      ],
      "text/plain": [
       "Empty DataFrame\n",
       "Columns: [restricted_stock_deferred, restricted_stock, exercised_stock_options, total_stock_value]\n",
       "Index: []"
      ]
     },
     "execution_count": 24,
     "metadata": {},
     "output_type": "execute_result"
    }
   ],
   "source": [
    "data[data[stock[:-1]].sum(axis=1) != data.total_stock_value][stock]"
   ]
  },
  {
   "cell_type": "code",
   "execution_count": 25,
   "metadata": {},
   "outputs": [],
   "source": [
    "email = ['to_messages',\n",
    "         'from_poi_to_this_person',\n",
    "         'from_messages',\n",
    "         'from_this_person_to_poi',\n",
    "         'shared_receipt_with_poi']"
   ]
  },
  {
   "cell_type": "code",
   "execution_count": 26,
   "metadata": {
    "scrolled": true
   },
   "outputs": [
    {
     "name": "stdout",
     "output_type": "stream",
     "text": [
      "<class 'pandas.core.frame.DataFrame'>\n",
      "Index: 146 entries, ALLEN PHILLIP K to YEAP SOON\n",
      "Data columns (total 5 columns):\n",
      "to_messages                86 non-null float64\n",
      "from_poi_to_this_person    86 non-null float64\n",
      "from_messages              86 non-null float64\n",
      "from_this_person_to_poi    86 non-null float64\n",
      "shared_receipt_with_poi    86 non-null float64\n",
      "dtypes: float64(5)\n",
      "memory usage: 11.8+ KB\n"
     ]
    }
   ],
   "source": [
    "data[email].info()"
   ]
  },
  {
   "cell_type": "code",
   "execution_count": 27,
   "metadata": {
    "scrolled": true
   },
   "outputs": [
    {
     "data": {
      "text/html": [
       "<div>\n",
       "<style scoped>\n",
       "    .dataframe tbody tr th:only-of-type {\n",
       "        vertical-align: middle;\n",
       "    }\n",
       "\n",
       "    .dataframe tbody tr th {\n",
       "        vertical-align: top;\n",
       "    }\n",
       "\n",
       "    .dataframe thead th {\n",
       "        text-align: right;\n",
       "    }\n",
       "</style>\n",
       "<table border=\"1\" class=\"dataframe\">\n",
       "  <thead>\n",
       "    <tr style=\"text-align: right;\">\n",
       "      <th></th>\n",
       "      <th>to_messages</th>\n",
       "      <th>from_poi_to_this_person</th>\n",
       "      <th>from_messages</th>\n",
       "      <th>from_this_person_to_poi</th>\n",
       "      <th>shared_receipt_with_poi</th>\n",
       "    </tr>\n",
       "    <tr>\n",
       "      <th>poi</th>\n",
       "      <th></th>\n",
       "      <th></th>\n",
       "      <th></th>\n",
       "      <th></th>\n",
       "      <th></th>\n",
       "    </tr>\n",
       "  </thead>\n",
       "  <tbody>\n",
       "    <tr>\n",
       "      <th>False</th>\n",
       "      <td>2007.111111</td>\n",
       "      <td>58.500000</td>\n",
       "      <td>668.763889</td>\n",
       "      <td>36.277778</td>\n",
       "      <td>1058.527778</td>\n",
       "    </tr>\n",
       "    <tr>\n",
       "      <th>True</th>\n",
       "      <td>2417.142857</td>\n",
       "      <td>97.785714</td>\n",
       "      <td>300.357143</td>\n",
       "      <td>66.714286</td>\n",
       "      <td>1783.000000</td>\n",
       "    </tr>\n",
       "  </tbody>\n",
       "</table>\n",
       "</div>"
      ],
      "text/plain": [
       "       to_messages  from_poi_to_this_person  from_messages  \\\n",
       "poi                                                          \n",
       "False  2007.111111                58.500000     668.763889   \n",
       "True   2417.142857                97.785714     300.357143   \n",
       "\n",
       "       from_this_person_to_poi  shared_receipt_with_poi  \n",
       "poi                                                      \n",
       "False                36.277778              1058.527778  \n",
       "True                 66.714286              1783.000000  "
      ]
     },
     "execution_count": 27,
     "metadata": {},
     "output_type": "execute_result"
    }
   ],
   "source": [
    "data[email+[label]].groupby(label).mean()"
   ]
  },
  {
   "cell_type": "code",
   "execution_count": 28,
   "metadata": {},
   "outputs": [],
   "source": [
    "imp = Imputer(np.nan)\n",
    "data.loc[data[label] == 1, email] = imp.fit_transform(data[email][data[label]==1])\n",
    "data.loc[data[label] == 0, email] = imp.fit_transform(data[email][data[label]==0])"
   ]
  },
  {
   "cell_type": "code",
   "execution_count": 29,
   "metadata": {},
   "outputs": [],
   "source": [
    "payments = list(set(payments)-set(few_poi_values))\n",
    "stock    = list(set(stock)-set(few_poi_values))\n",
    "email    = list(set(email)-set(few_poi_values))"
   ]
  },
  {
   "cell_type": "code",
   "execution_count": 30,
   "metadata": {
    "scrolled": true
   },
   "outputs": [
    {
     "data": {
      "text/plain": [
       "(146, 15)"
      ]
     },
     "execution_count": 30,
     "metadata": {},
     "output_type": "execute_result"
    }
   ],
   "source": [
    "data = data[payments+stock+email+[label]]\n",
    "data.shape"
   ]
  },
  {
   "cell_type": "code",
   "execution_count": 31,
   "metadata": {
    "scrolled": true
   },
   "outputs": [
    {
     "data": {
      "text/html": [
       "<div>\n",
       "<style scoped>\n",
       "    .dataframe tbody tr th:only-of-type {\n",
       "        vertical-align: middle;\n",
       "    }\n",
       "\n",
       "    .dataframe tbody tr th {\n",
       "        vertical-align: top;\n",
       "    }\n",
       "\n",
       "    .dataframe thead th {\n",
       "        text-align: right;\n",
       "    }\n",
       "</style>\n",
       "<table border=\"1\" class=\"dataframe\">\n",
       "  <thead>\n",
       "    <tr style=\"text-align: right;\">\n",
       "      <th></th>\n",
       "      <th>expenses</th>\n",
       "      <th>total_payments</th>\n",
       "      <th>bonus</th>\n",
       "      <th>long_term_incentive</th>\n",
       "      <th>salary</th>\n",
       "      <th>other</th>\n",
       "      <th>restricted_stock</th>\n",
       "      <th>exercised_stock_options</th>\n",
       "      <th>total_stock_value</th>\n",
       "      <th>to_messages</th>\n",
       "      <th>from_poi_to_this_person</th>\n",
       "      <th>shared_receipt_with_poi</th>\n",
       "      <th>from_this_person_to_poi</th>\n",
       "      <th>from_messages</th>\n",
       "      <th>poi</th>\n",
       "    </tr>\n",
       "  </thead>\n",
       "  <tbody>\n",
       "    <tr>\n",
       "      <th>ALLEN PHILLIP K</th>\n",
       "      <td>13868.0</td>\n",
       "      <td>4484442.0</td>\n",
       "      <td>4175000.0</td>\n",
       "      <td>304805.0</td>\n",
       "      <td>201955.0</td>\n",
       "      <td>152.0</td>\n",
       "      <td>126027.0</td>\n",
       "      <td>1729541.0</td>\n",
       "      <td>1729541.0</td>\n",
       "      <td>2902.000000</td>\n",
       "      <td>47.0</td>\n",
       "      <td>1407.000000</td>\n",
       "      <td>65.000000</td>\n",
       "      <td>2195.000000</td>\n",
       "      <td>False</td>\n",
       "    </tr>\n",
       "    <tr>\n",
       "      <th>BADUM JAMES P</th>\n",
       "      <td>3486.0</td>\n",
       "      <td>182466.0</td>\n",
       "      <td>0.0</td>\n",
       "      <td>0.0</td>\n",
       "      <td>0.0</td>\n",
       "      <td>0.0</td>\n",
       "      <td>0.0</td>\n",
       "      <td>257817.0</td>\n",
       "      <td>257817.0</td>\n",
       "      <td>2007.111111</td>\n",
       "      <td>58.5</td>\n",
       "      <td>1058.527778</td>\n",
       "      <td>36.277778</td>\n",
       "      <td>668.763889</td>\n",
       "      <td>False</td>\n",
       "    </tr>\n",
       "    <tr>\n",
       "      <th>BANNANTINE JAMES M</th>\n",
       "      <td>56301.0</td>\n",
       "      <td>916197.0</td>\n",
       "      <td>0.0</td>\n",
       "      <td>0.0</td>\n",
       "      <td>477.0</td>\n",
       "      <td>864523.0</td>\n",
       "      <td>1757552.0</td>\n",
       "      <td>4046157.0</td>\n",
       "      <td>5243487.0</td>\n",
       "      <td>566.000000</td>\n",
       "      <td>39.0</td>\n",
       "      <td>465.000000</td>\n",
       "      <td>0.000000</td>\n",
       "      <td>29.000000</td>\n",
       "      <td>False</td>\n",
       "    </tr>\n",
       "    <tr>\n",
       "      <th>BAXTER JOHN C</th>\n",
       "      <td>11200.0</td>\n",
       "      <td>5634343.0</td>\n",
       "      <td>1200000.0</td>\n",
       "      <td>1586055.0</td>\n",
       "      <td>267102.0</td>\n",
       "      <td>2660303.0</td>\n",
       "      <td>3942714.0</td>\n",
       "      <td>6680544.0</td>\n",
       "      <td>10623258.0</td>\n",
       "      <td>2007.111111</td>\n",
       "      <td>58.5</td>\n",
       "      <td>1058.527778</td>\n",
       "      <td>36.277778</td>\n",
       "      <td>668.763889</td>\n",
       "      <td>False</td>\n",
       "    </tr>\n",
       "    <tr>\n",
       "      <th>BAY FRANKLIN R</th>\n",
       "      <td>129142.0</td>\n",
       "      <td>827696.0</td>\n",
       "      <td>400000.0</td>\n",
       "      <td>0.0</td>\n",
       "      <td>239671.0</td>\n",
       "      <td>69.0</td>\n",
       "      <td>145796.0</td>\n",
       "      <td>0.0</td>\n",
       "      <td>63014.0</td>\n",
       "      <td>2007.111111</td>\n",
       "      <td>58.5</td>\n",
       "      <td>1058.527778</td>\n",
       "      <td>36.277778</td>\n",
       "      <td>668.763889</td>\n",
       "      <td>False</td>\n",
       "    </tr>\n",
       "  </tbody>\n",
       "</table>\n",
       "</div>"
      ],
      "text/plain": [
       "                    expenses  total_payments      bonus  long_term_incentive  \\\n",
       "ALLEN PHILLIP K      13868.0       4484442.0  4175000.0             304805.0   \n",
       "BADUM JAMES P         3486.0        182466.0        0.0                  0.0   \n",
       "BANNANTINE JAMES M   56301.0        916197.0        0.0                  0.0   \n",
       "BAXTER JOHN C        11200.0       5634343.0  1200000.0            1586055.0   \n",
       "BAY FRANKLIN R      129142.0        827696.0   400000.0                  0.0   \n",
       "\n",
       "                      salary      other  restricted_stock  \\\n",
       "ALLEN PHILLIP K     201955.0      152.0          126027.0   \n",
       "BADUM JAMES P            0.0        0.0               0.0   \n",
       "BANNANTINE JAMES M     477.0   864523.0         1757552.0   \n",
       "BAXTER JOHN C       267102.0  2660303.0         3942714.0   \n",
       "BAY FRANKLIN R      239671.0       69.0          145796.0   \n",
       "\n",
       "                    exercised_stock_options  total_stock_value  to_messages  \\\n",
       "ALLEN PHILLIP K                   1729541.0          1729541.0  2902.000000   \n",
       "BADUM JAMES P                      257817.0           257817.0  2007.111111   \n",
       "BANNANTINE JAMES M                4046157.0          5243487.0   566.000000   \n",
       "BAXTER JOHN C                     6680544.0         10623258.0  2007.111111   \n",
       "BAY FRANKLIN R                          0.0            63014.0  2007.111111   \n",
       "\n",
       "                    from_poi_to_this_person  shared_receipt_with_poi  \\\n",
       "ALLEN PHILLIP K                        47.0              1407.000000   \n",
       "BADUM JAMES P                          58.5              1058.527778   \n",
       "BANNANTINE JAMES M                     39.0               465.000000   \n",
       "BAXTER JOHN C                          58.5              1058.527778   \n",
       "BAY FRANKLIN R                         58.5              1058.527778   \n",
       "\n",
       "                    from_this_person_to_poi  from_messages    poi  \n",
       "ALLEN PHILLIP K                   65.000000    2195.000000  False  \n",
       "BADUM JAMES P                     36.277778     668.763889  False  \n",
       "BANNANTINE JAMES M                 0.000000      29.000000  False  \n",
       "BAXTER JOHN C                     36.277778     668.763889  False  \n",
       "BAY FRANKLIN R                    36.277778     668.763889  False  "
      ]
     },
     "execution_count": 31,
     "metadata": {},
     "output_type": "execute_result"
    }
   ],
   "source": [
    "data.head()"
   ]
  },
  {
   "cell_type": "markdown",
   "metadata": {},
   "source": [
    "---\n",
    "\n",
    "## Outliers Investigation"
   ]
  },
  {
   "cell_type": "code",
   "execution_count": 32,
   "metadata": {},
   "outputs": [
    {
     "data": {
      "text/html": [
       "<div>\n",
       "<style scoped>\n",
       "    .dataframe tbody tr th:only-of-type {\n",
       "        vertical-align: middle;\n",
       "    }\n",
       "\n",
       "    .dataframe tbody tr th {\n",
       "        vertical-align: top;\n",
       "    }\n",
       "\n",
       "    .dataframe thead th {\n",
       "        text-align: right;\n",
       "    }\n",
       "</style>\n",
       "<table border=\"1\" class=\"dataframe\">\n",
       "  <thead>\n",
       "    <tr style=\"text-align: right;\">\n",
       "      <th></th>\n",
       "      <th>expenses</th>\n",
       "      <th>total_payments</th>\n",
       "      <th>bonus</th>\n",
       "      <th>long_term_incentive</th>\n",
       "      <th>salary</th>\n",
       "      <th>other</th>\n",
       "      <th>restricted_stock</th>\n",
       "      <th>exercised_stock_options</th>\n",
       "      <th>total_stock_value</th>\n",
       "      <th>to_messages</th>\n",
       "      <th>from_poi_to_this_person</th>\n",
       "      <th>shared_receipt_with_poi</th>\n",
       "      <th>from_this_person_to_poi</th>\n",
       "      <th>from_messages</th>\n",
       "      <th>poi</th>\n",
       "    </tr>\n",
       "  </thead>\n",
       "  <tbody>\n",
       "  </tbody>\n",
       "</table>\n",
       "</div>"
      ],
      "text/plain": [
       "Empty DataFrame\n",
       "Columns: [expenses, total_payments, bonus, long_term_incentive, salary, other, restricted_stock, exercised_stock_options, total_stock_value, to_messages, from_poi_to_this_person, shared_receipt_with_poi, from_this_person_to_poi, from_messages, poi]\n",
       "Index: []"
      ]
     },
     "execution_count": 32,
     "metadata": {},
     "output_type": "execute_result"
    }
   ],
   "source": [
    "data[data.drop(label, axis=1).isnull().all(1)]"
   ]
  },
  {
   "cell_type": "code",
   "execution_count": 33,
   "metadata": {},
   "outputs": [],
   "source": [
    "data.drop('LOCKHART EUGENE E', inplace=True)\n"
   ]
  },
  {
   "cell_type": "code",
   "execution_count": 34,
   "metadata": {},
   "outputs": [],
   "source": [
    "data.drop(['TOTAL', 'THE TRAVEL AGENCY IN THE PARK'], inplace=True)"
   ]
  },
  {
   "cell_type": "code",
   "execution_count": 35,
   "metadata": {},
   "outputs": [
    {
     "data": {
      "text/plain": [
       "(143, 15)"
      ]
     },
     "execution_count": 35,
     "metadata": {},
     "output_type": "execute_result"
    }
   ],
   "source": [
    "data.shape"
   ]
  },
  {
   "cell_type": "markdown",
   "metadata": {},
   "source": [
    "---\n",
    "\n",
    "## Feature Engineer"
   ]
  },
  {
   "cell_type": "code",
   "execution_count": 3,
   "metadata": {},
   "outputs": [],
   "source": [
    "def KBestTable(sel, df, features):\n",
    "    names = df[features].columns.values[sel.get_support()]\n",
    "    scores = pd.Series(sel.scores_, names).sort_values(ascending=False)\n",
    "    return scores"
   ]
  },
  {
   "cell_type": "code",
   "execution_count": 36,
   "metadata": {},
   "outputs": [
    {
     "data": {
      "text/plain": [
       "total_stock_value          22.510549\n",
       "exercised_stock_options    22.348975\n",
       "bonus                      20.792252\n",
       "salary                     18.289684\n",
       "shared_receipt_with_poi    10.409148\n",
       "long_term_incentive         9.922186\n",
       "total_payments              9.283874\n",
       "restricted_stock            8.825442\n",
       "from_poi_to_this_person     5.478692\n",
       "expenses                    5.418900\n",
       "other                       4.202436\n",
       "from_this_person_to_poi     2.445551\n",
       "from_messages               1.050952\n",
       "to_messages                 0.660154\n",
       "dtype: float64"
      ]
     },
     "execution_count": 36,
     "metadata": {},
     "output_type": "execute_result"
    }
   ],
   "source": [
    "features = payments+stock+email\n",
    "sel = SelectKBest(f_classif, k = 'all').fit(data[features], data[label])\n",
    "KBestTable(sel, data, features)"
   ]
  },
  {
   "cell_type": "code",
   "execution_count": 37,
   "metadata": {},
   "outputs": [],
   "source": [
    "data['ratio_from_poi'] = data.from_this_person_to_poi/data.from_messages\n",
    "data['ratio_to_poi']   = data.from_poi_to_this_person/data.to_messages\n",
    "data['ratio_with_poi'] = data.shared_receipt_with_poi/data.to_messages\n",
    "new = ['ratio_with_poi', 'ratio_to_poi', 'ratio_from_poi']"
   ]
  },
  {
   "cell_type": "code",
   "execution_count": 38,
   "metadata": {},
   "outputs": [
    {
     "data": {
      "text/plain": [
       "ratio_from_poi             25.878195\n",
       "ratio_with_poi             15.693633\n",
       "shared_receipt_with_poi    10.409148\n",
       "from_poi_to_this_person     5.478692\n",
       "ratio_to_poi                2.592766\n",
       "from_this_person_to_poi     2.445551\n",
       "from_messages               1.050952\n",
       "to_messages                 0.660154\n",
       "dtype: float64"
      ]
     },
     "execution_count": 38,
     "metadata": {},
     "output_type": "execute_result"
    }
   ],
   "source": [
    "features = email+new\n",
    "sel = SelectKBest(f_classif, k = 'all').fit(data[features], data[label])\n",
    "KBestTable(sel, data, features)"
   ]
  },
  {
   "cell_type": "code",
   "execution_count": 39,
   "metadata": {},
   "outputs": [],
   "source": [
    "email = new"
   ]
  },
  {
   "cell_type": "markdown",
   "metadata": {},
   "source": [
    "---\n",
    "\n",
    "## Feature Selection"
   ]
  },
  {
   "cell_type": "code",
   "execution_count": 40,
   "metadata": {},
   "outputs": [
    {
     "data": {
      "text/plain": [
       "ratio_from_poi             25.878195\n",
       "total_stock_value          22.510549\n",
       "exercised_stock_options    22.348975\n",
       "bonus                      20.792252\n",
       "salary                     18.289684\n",
       "ratio_with_poi             15.693633\n",
       "long_term_incentive         9.922186\n",
       "total_payments              9.283874\n",
       "restricted_stock            8.825442\n",
       "expenses                    5.418900\n",
       "other                       4.202436\n",
       "ratio_to_poi                2.592766\n",
       "dtype: float64"
      ]
     },
     "execution_count": 40,
     "metadata": {},
     "output_type": "execute_result"
    }
   ],
   "source": [
    "features = payments+stock+email\n",
    "sel = SelectKBest(f_classif, k = 'all').fit(data[features], data[label])\n",
    "KBestTable(sel, data, features)"
   ]
  },
  {
   "cell_type": "code",
   "execution_count": 41,
   "metadata": {},
   "outputs": [
    {
     "data": {
      "text/plain": [
       "['poi',\n",
       " 'expenses',\n",
       " 'total_payments',\n",
       " 'bonus',\n",
       " 'long_term_incentive',\n",
       " 'salary',\n",
       " 'other',\n",
       " 'restricted_stock',\n",
       " 'exercised_stock_options',\n",
       " 'total_stock_value',\n",
       " 'ratio_with_poi',\n",
       " 'ratio_to_poi',\n",
       " 'ratio_from_poi']"
      ]
     },
     "execution_count": 41,
     "metadata": {},
     "output_type": "execute_result"
    }
   ],
   "source": [
    "features_list = [label]+features\n",
    "features_list"
   ]
  },
  {
   "cell_type": "markdown",
   "metadata": {},
   "source": [
    "---\n",
    "\n",
    "## Feature Scaling"
   ]
  },
  {
   "cell_type": "code",
   "execution_count": 42,
   "metadata": {},
   "outputs": [
    {
     "data": {
      "text/html": [
       "<div>\n",
       "<style scoped>\n",
       "    .dataframe tbody tr th:only-of-type {\n",
       "        vertical-align: middle;\n",
       "    }\n",
       "\n",
       "    .dataframe tbody tr th {\n",
       "        vertical-align: top;\n",
       "    }\n",
       "\n",
       "    .dataframe thead th {\n",
       "        text-align: right;\n",
       "    }\n",
       "</style>\n",
       "<table border=\"1\" class=\"dataframe\">\n",
       "  <thead>\n",
       "    <tr style=\"text-align: right;\">\n",
       "      <th></th>\n",
       "      <th>expenses</th>\n",
       "      <th>total_payments</th>\n",
       "      <th>bonus</th>\n",
       "      <th>long_term_incentive</th>\n",
       "      <th>salary</th>\n",
       "      <th>other</th>\n",
       "      <th>restricted_stock</th>\n",
       "      <th>exercised_stock_options</th>\n",
       "      <th>total_stock_value</th>\n",
       "      <th>ratio_with_poi</th>\n",
       "      <th>ratio_to_poi</th>\n",
       "      <th>ratio_from_poi</th>\n",
       "    </tr>\n",
       "  </thead>\n",
       "  <tbody>\n",
       "    <tr>\n",
       "      <th>ALLEN PHILLIP K</th>\n",
       "      <td>0.060622</td>\n",
       "      <td>0.043303</td>\n",
       "      <td>0.521875</td>\n",
       "      <td>0.059238</td>\n",
       "      <td>0.181735</td>\n",
       "      <td>0.000015</td>\n",
       "      <td>0.008537</td>\n",
       "      <td>0.050353</td>\n",
       "      <td>0.035218</td>\n",
       "      <td>0.474640</td>\n",
       "      <td>0.074518</td>\n",
       "      <td>0.029613</td>\n",
       "    </tr>\n",
       "    <tr>\n",
       "      <th>BADUM JAMES P</th>\n",
       "      <td>0.015238</td>\n",
       "      <td>0.001762</td>\n",
       "      <td>0.000000</td>\n",
       "      <td>0.000000</td>\n",
       "      <td>0.000000</td>\n",
       "      <td>0.000000</td>\n",
       "      <td>0.000000</td>\n",
       "      <td>0.007506</td>\n",
       "      <td>0.005250</td>\n",
       "      <td>0.517937</td>\n",
       "      <td>0.134104</td>\n",
       "      <td>0.054246</td>\n",
       "    </tr>\n",
       "    <tr>\n",
       "      <th>BANNANTINE JAMES M</th>\n",
       "      <td>0.246111</td>\n",
       "      <td>0.008847</td>\n",
       "      <td>0.000000</td>\n",
       "      <td>0.000000</td>\n",
       "      <td>0.000429</td>\n",
       "      <td>0.083450</td>\n",
       "      <td>0.119062</td>\n",
       "      <td>0.117798</td>\n",
       "      <td>0.106770</td>\n",
       "      <td>0.817260</td>\n",
       "      <td>0.317034</td>\n",
       "      <td>0.000000</td>\n",
       "    </tr>\n",
       "    <tr>\n",
       "      <th>BAXTER JOHN C</th>\n",
       "      <td>0.048959</td>\n",
       "      <td>0.054407</td>\n",
       "      <td>0.150000</td>\n",
       "      <td>0.308245</td>\n",
       "      <td>0.240360</td>\n",
       "      <td>0.256793</td>\n",
       "      <td>0.267091</td>\n",
       "      <td>0.194494</td>\n",
       "      <td>0.216315</td>\n",
       "      <td>0.517937</td>\n",
       "      <td>0.134104</td>\n",
       "      <td>0.054246</td>\n",
       "    </tr>\n",
       "    <tr>\n",
       "      <th>BAY FRANKLIN R</th>\n",
       "      <td>0.564523</td>\n",
       "      <td>0.007992</td>\n",
       "      <td>0.050000</td>\n",
       "      <td>0.000000</td>\n",
       "      <td>0.215675</td>\n",
       "      <td>0.000007</td>\n",
       "      <td>0.009877</td>\n",
       "      <td>0.000000</td>\n",
       "      <td>0.001283</td>\n",
       "      <td>0.517937</td>\n",
       "      <td>0.134104</td>\n",
       "      <td>0.054246</td>\n",
       "    </tr>\n",
       "  </tbody>\n",
       "</table>\n",
       "</div>"
      ],
      "text/plain": [
       "                    expenses  total_payments     bonus  long_term_incentive  \\\n",
       "ALLEN PHILLIP K     0.060622        0.043303  0.521875             0.059238   \n",
       "BADUM JAMES P       0.015238        0.001762  0.000000             0.000000   \n",
       "BANNANTINE JAMES M  0.246111        0.008847  0.000000             0.000000   \n",
       "BAXTER JOHN C       0.048959        0.054407  0.150000             0.308245   \n",
       "BAY FRANKLIN R      0.564523        0.007992  0.050000             0.000000   \n",
       "\n",
       "                      salary     other  restricted_stock  \\\n",
       "ALLEN PHILLIP K     0.181735  0.000015          0.008537   \n",
       "BADUM JAMES P       0.000000  0.000000          0.000000   \n",
       "BANNANTINE JAMES M  0.000429  0.083450          0.119062   \n",
       "BAXTER JOHN C       0.240360  0.256793          0.267091   \n",
       "BAY FRANKLIN R      0.215675  0.000007          0.009877   \n",
       "\n",
       "                    exercised_stock_options  total_stock_value  \\\n",
       "ALLEN PHILLIP K                    0.050353           0.035218   \n",
       "BADUM JAMES P                      0.007506           0.005250   \n",
       "BANNANTINE JAMES M                 0.117798           0.106770   \n",
       "BAXTER JOHN C                      0.194494           0.216315   \n",
       "BAY FRANKLIN R                     0.000000           0.001283   \n",
       "\n",
       "                    ratio_with_poi  ratio_to_poi  ratio_from_poi  \n",
       "ALLEN PHILLIP K           0.474640      0.074518        0.029613  \n",
       "BADUM JAMES P             0.517937      0.134104        0.054246  \n",
       "BANNANTINE JAMES M        0.817260      0.317034        0.000000  \n",
       "BAXTER JOHN C             0.517937      0.134104        0.054246  \n",
       "BAY FRANKLIN R            0.517937      0.134104        0.054246  "
      ]
     },
     "execution_count": 42,
     "metadata": {},
     "output_type": "execute_result"
    }
   ],
   "source": [
    "data[features] = MinMaxScaler().fit_transform(data[features])\n",
    "data[features].head()"
   ]
  },
  {
   "cell_type": "markdown",
   "metadata": {},
   "source": [
    "---\n",
    "\n",
    "## Algorithms"
   ]
  },
  {
   "cell_type": "code",
   "execution_count": 43,
   "metadata": {},
   "outputs": [],
   "source": [
    "my_dataset = data.to_dict(orient='index')\n",
    "data = featureFormat(my_dataset, features_list, sort_keys = True)\n",
    "labels, features = targetFeatureSplit(data)"
   ]
  },
  {
   "cell_type": "code",
   "execution_count": 44,
   "metadata": {},
   "outputs": [],
   "source": [
    "from sklearn.naive_bayes  import GaussianNB\n",
    "from sklearn.svm          import SVC\n",
    "from sklearn.tree         import DecisionTreeClassifier\n",
    "from sklearn.ensemble     import RandomForestClassifier"
   ]
  },
  {
   "cell_type": "markdown",
   "metadata": {},
   "source": [
    "---\n",
    "\n",
    "## Parameters Tunning"
   ]
  },
  {
   "cell_type": "code",
   "execution_count": 45,
   "metadata": {},
   "outputs": [
    {
     "data": {
      "text/plain": [
       "{'PCA__n_components': [None, 2, 3], 'SKB__k': ['all', 6, 8, 10]}"
      ]
     },
     "execution_count": 45,
     "metadata": {},
     "output_type": "execute_result"
    }
   ],
   "source": [
    "cv = StratifiedShuffleSplit(labels, 1000,random_state = 42)\n",
    "skb = {'SKB__k': ['all'] + list(range(6,len(features[0]),2))}\n",
    "pca = {'PCA__n_components': [None] + list(range(2,4))}\n",
    "scoring = 'f1'\n",
    "\n",
    "params = {}\n",
    "params.update(pca)\n",
    "params.update(skb)\n",
    "params"
   ]
  },
  {
   "cell_type": "code",
   "execution_count": 46,
   "metadata": {},
   "outputs": [
    {
     "data": {
      "text/plain": [
       "{'PCA__n_components': None, 'SKB__k': 'all'}"
      ]
     },
     "execution_count": 46,
     "metadata": {},
     "output_type": "execute_result"
    }
   ],
   "source": [
    "nb = {}\n",
    "nb.update(params)\n",
    "params2 = params.copy().update(nb)\n",
    "pipe = Pipeline(steps=[('SKB', SelectKBest()),('PCA', PCA()), ('clf', GaussianNB())])\n",
    "clf = GridSearchCV(pipe, param_grid = nb, cv=cv, scoring = 'f1').fit(features, labels)\n",
    "clf.best_params_"
   ]
  },
  {
   "cell_type": "code",
   "execution_count": 47,
   "metadata": {},
   "outputs": [
    {
     "name": "stdout",
     "output_type": "stream",
     "text": [
      "Pipeline(memory=None,\n",
      "     steps=[('SKB', SelectKBest(k='all', score_func=<function f_classif at 0x7f3c8b7e81e0>)), ('PCA', PCA(copy=True, iterated_power='auto', n_components=None, random_state=None,\n",
      "  svd_solver='auto', tol=0.0, whiten=False)), ('clf', GaussianNB(priors=None))])\n",
      "\tAccuracy: 0.83460\tPrecision: 0.36343\tRecall: 0.32000\tF1: 0.34034\tF2: 0.32784\n",
      "\tTotal predictions: 15000\tTrue positives:  640\tFalse positives: 1121\tFalse negatives: 1360\tTrue negatives: 11879\n",
      "\n"
     ]
    }
   ],
   "source": [
    "test_classifier(clf.best_estimator_,my_dataset,features_list)"
   ]
  },
  {
   "cell_type": "code",
   "execution_count": 48,
   "metadata": {},
   "outputs": [
    {
     "data": {
      "text/plain": [
       "{'PCA__n_components': None,\n",
       " 'SKB__k': 10,\n",
       " 'clf__C': 1000.0,\n",
       " 'clf__gamma': 0.001,\n",
       " 'clf__kernel': 'linear',\n",
       " 'clf__random_state': 42}"
      ]
     },
     "execution_count": 48,
     "metadata": {},
     "output_type": "execute_result"
    }
   ],
   "source": [
    "svm = {'clf__kernel'       : ['linear', 'poly', 'rbf'],\n",
    "       'clf__C'            : [1., 10., 100., 1000.],\n",
    "       'clf__gamma'        : [0.001, 0.0001],\n",
    "       'clf__random_state' : [42]}\n",
    "\n",
    "svm.update(params)\n",
    "\n",
    "pipe = Pipeline(steps=[('SKB', SelectKBest()),('PCA', PCA()), ('clf', SVC())])\n",
    "clf = GridSearchCV(pipe, param_grid = svm, cv=cv, scoring=scoring).fit(features, labels)\n",
    "clf.best_params_"
   ]
  },
  {
   "cell_type": "code",
   "execution_count": 49,
   "metadata": {},
   "outputs": [
    {
     "name": "stdout",
     "output_type": "stream",
     "text": [
      "Pipeline(memory=None,\n",
      "     steps=[('SKB', SelectKBest(k=10, score_func=<function f_classif at 0x7f3c8b7e81e0>)), ('PCA', PCA(copy=True, iterated_power='auto', n_components=None, random_state=None,\n",
      "  svd_solver='auto', tol=0.0, whiten=False)), ('clf', SVC(C=1000.0, cache_size=200, class_weight=None, coef0=0.0,\n",
      "  decision_function_shape='ovr', degree=3, gamma=0.001, kernel='linear',\n",
      "  max_iter=-1, probability=False, random_state=42, shrinking=True,\n",
      "  tol=0.001, verbose=False))])\n",
      "\tAccuracy: 0.87240\tPrecision: 0.57491\tRecall: 0.16500\tF1: 0.25641\tF2: 0.19244\n",
      "\tTotal predictions: 15000\tTrue positives:  330\tFalse positives:  244\tFalse negatives: 1670\tTrue negatives: 12756\n",
      "\n"
     ]
    }
   ],
   "source": [
    "test_classifier(clf.best_estimator_,my_dataset,features_list)"
   ]
  },
  {
   "cell_type": "code",
   "execution_count": null,
   "metadata": {},
   "outputs": [],
   "source": [
    "dt = {'clf__criterion'        : ['gini', 'entropy'],\n",
    "      'clf__max_depth'        : [None, 1, 2, 4, 8],\n",
    "      'clf__min_samples_split': [2, 3, 4, 5],\n",
    "      'clf__min_samples_leaf' : [2, 4, 6, 8],\n",
    "      'clf__random_state'     : [42]}\n",
    "\n",
    "dt.update(params)\n",
    "\n",
    "pipe = Pipeline(steps=[('SKB', SelectKBest()),('PCA', PCA()), ('clf', DecisionTreeClassifier())])\n",
    "clf = GridSearchCV(pipe, param_grid = dt, cv=cv, scoring=scoring\n",
    "                  ).fit(features, labels)\n",
    "clf.best_params_"
   ]
  },
  {
   "cell_type": "code",
   "execution_count": null,
   "metadata": {},
   "outputs": [],
   "source": [
    "test_classifier(clf.best_estimator_,my_dataset,features_list)"
   ]
  },
  {
   "cell_type": "code",
   "execution_count": null,
   "metadata": {},
   "outputs": [],
   "source": [
    "rf = {'clf__min_samples_split':[2, 4, 6],\n",
    "      'clf__max_depth'        :[2, 4, 6],\n",
    "      'clf__random_state'     :[42]}\n",
    "rf.update(params)\n",
    "\n",
    "pipe = Pipeline(steps=[('SKB', SelectKBest()),('PCA', PCA()), ('clf', RandomForestClassifier())])\n",
    "clf = GridSearchCV(pipe, param_grid = rf, cv=cv, scoring=scoring).fit(features, labels)\n",
    "clf.best_params_"
   ]
  },
  {
   "cell_type": "code",
   "execution_count": null,
   "metadata": {},
   "outputs": [],
   "source": [
    "test_classifier(clf.best_estimator_,my_dataset,features_list)"
   ]
  },
  {
   "cell_type": "code",
   "execution_count": null,
   "metadata": {},
   "outputs": [],
   "source": [
    "clf = DecisionTreeClassifier(criterion='entropy', max_depth =6, min_samples_split=6, min_samples_leaf=6)\n",
    "test_classifier(clf,my_dataset,features_list)"
   ]
  },
  {
   "cell_type": "markdown",
   "metadata": {},
   "source": [
    "## Validation"
   ]
  },
  {
   "cell_type": "markdown",
   "metadata": {},
   "source": [
    "## Conclusion"
   ]
  },
  {
   "cell_type": "markdown",
   "metadata": {},
   "source": [
    "> 1. Summarize for us the goal of this project and how machine learning is useful in trying to accomplish it. As part of your answer, give some background on the dataset and how it can be used to answer the project question. Were there any outliers in the data when you got it, and how did you handle those?  [relevant rubric items: “data exploration”, “outlier investigation”]\n",
    "> 1. What features did you end up using in your POI identifier, and what selection process did you use to pick them? Did you have to do any scaling? Why or why not? As part of the assignment, you should attempt to engineer your own feature that does not come ready-made in the dataset -- explain what feature you tried to make, and the rationale behind it. (You do not necessarily have to use it in the final analysis, only engineer and test it.) In your feature selection step, if you used an algorithm like a decision tree, please also give the feature importances of the features that you use, and if you used an automated feature selection function like SelectKBest, please report the feature scores and reasons for your choice of parameter values.  [relevant rubric items: “create new features”, “intelligently select features”, “properly scale features”]\n",
    "> 1. What algorithm did you end up using? What other one(s) did you try? How did model performance differ between algorithms?  [relevant rubric item: “pick an algorithm”]\n",
    "> 1. What does it mean to tune the parameters of an algorithm, and what can happen if you don’t do this well?  How did you tune the parameters of your particular algorithm? What parameters did you tune? (Some algorithms do not have parameters that you need to tune -- if this is the case for the one you picked, identify and briefly explain how you would have done it for the model that was not your final choice or a different model that does utilize parameter tuning, e.g. a decision tree classifier).  [relevant rubric items: “discuss parameter tuning”, “tune the algorithm”]\n",
    "> 1. What is validation, and what’s a classic mistake you can make if you do it wrong? How did you validate your analysis?  [relevant rubric items: “discuss validation”, “validation strategy”]\n",
    "> 1. Give at least 2 evaluation metrics and your average performance for each of them.  Explain an interpretation of your metrics that says something human-understandable about your algorithm’s performance. [relevant rubric item: “usage of evaluation metrics”]\n"
   ]
  },
  {
   "cell_type": "markdown",
   "metadata": {},
   "source": [
    "# References\n",
    "\n",
    "1. <https://stackoverflow.com/>\n",
    "1. <https://pandas.pydata.org/>\n",
    "1. <https://stats.stackexchange.com/>\n",
    "1. <https://olegleyz.github.io/enron_classifier.html>\n",
    "1. <https://medium.com/@williamkoehrsen/machine-learning-with-python-on-the-enron-dataset-8d71015be26d/>\n",
    "1. <https://www.kaggle.com/tsilveira/machine-learning-tutorial-enron-e-mails>"
   ]
  }
 ],
 "metadata": {
  "kernelspec": {
   "display_name": "Python 3",
   "language": "python",
   "name": "python3"
  },
  "language_info": {
   "codemirror_mode": {
    "name": "ipython",
    "version": 3
   },
   "file_extension": ".py",
   "mimetype": "text/x-python",
   "name": "python",
   "nbconvert_exporter": "python",
   "pygments_lexer": "ipython3",
   "version": "3.6.6"
  }
 },
 "nbformat": 4,
 "nbformat_minor": 2
}
